{
 "cells": [
  {
   "cell_type": "code",
   "execution_count": 1,
   "id": "41c856c8-c67b-4dea-8295-330405f31187",
   "metadata": {},
   "outputs": [
    {
     "name": "stdout",
     "output_type": "stream",
     "text": [
      "Bibliotecas importadas correctamente.\n"
     ]
    }
   ],
   "source": [
    "import pandas as pd\n",
    "from sklearn.model_selection import train_test_split\n",
    "from sklearn.linear_model import LinearRegression\n",
    "import matplotlib.pyplot as plt\n",
    "import seaborn as sns\n",
    "\n",
    "print(\"Bibliotecas importadas correctamente.\")"
   ]
  },
  {
   "cell_type": "code",
   "execution_count": 3,
   "id": "49dcdd8a-5cf5-4fb5-afe6-fc1cd6292277",
   "metadata": {},
   "outputs": [
    {
     "name": "stdout",
     "output_type": "stream",
     "text": [
      "Datos cargados y preparados. Tenemos 200 registros.\n"
     ]
    }
   ],
   "source": [
    "#cargar los datos:\n",
    "url = 'https://www.statlearning.com/s/Advertising.csv'\n",
    "data = pd.read_csv(url, index_col=0)\n",
    "\n",
    "\n",
    "#reparamos entre features y tarjets (x,y respectively)\n",
    "X = data[['TV']]\n",
    "Y = data['sales']\n",
    "\n",
    "print(\"Datos cargados y preparados. Tenemos\", X.shape[0], \"registros.\")"
   ]
  },
  {
   "cell_type": "code",
   "execution_count": 4,
   "id": "c8581f4f-79a1-408b-a210-65ca85a622c6",
   "metadata": {},
   "outputs": [
    {
     "data": {
      "text/plain": [
       "<bound method NDFrame.head of      TV  radio  newspaper  sales\n",
       "1   230.1   37.8       69.2   22.1\n",
       "2    44.5   39.3       45.1   10.4\n",
       "3    17.2   45.9       69.3    9.3\n",
       "4   151.5   41.3       58.5   18.5\n",
       "5   180.8   10.8       58.4   12.9\n",
       "..    ...    ...        ...    ...\n",
       "196  38.2    3.7       13.8    7.6\n",
       "197  94.2    4.9        8.1    9.7\n",
       "198 177.0    9.3        6.4   12.8\n",
       "199 283.6   42.0       66.2   25.5\n",
       "200 232.1    8.6        8.7   13.4\n",
       "\n",
       "[200 rows x 4 columns]>"
      ]
     },
     "execution_count": 4,
     "metadata": {},
     "output_type": "execute_result"
    }
   ],
   "source": [
    "data.head"
   ]
  },
  {
   "cell_type": "code",
   "execution_count": 5,
   "id": "1546386b-9d7d-4c64-b1ec-172d1665efd6",
   "metadata": {},
   "outputs": [
    {
     "data": {
      "text/plain": [
       "Index(['TV', 'radio', 'newspaper', 'sales'], dtype='object')"
      ]
     },
     "execution_count": 5,
     "metadata": {},
     "output_type": "execute_result"
    }
   ],
   "source": [
    "data.columns"
   ]
  },
  {
   "cell_type": "code",
   "execution_count": 6,
   "id": "695a0edd-59c8-4fe5-b239-86e6904b4469",
   "metadata": {},
   "outputs": [
    {
     "data": {
      "text/plain": [
       "Index([  1,   2,   3,   4,   5,   6,   7,   8,   9,  10,\n",
       "       ...\n",
       "       191, 192, 193, 194, 195, 196, 197, 198, 199, 200],\n",
       "      dtype='int64', length=200)"
      ]
     },
     "execution_count": 6,
     "metadata": {},
     "output_type": "execute_result"
    }
   ],
   "source": [
    "data.index"
   ]
  },
  {
   "cell_type": "code",
   "execution_count": 7,
   "id": "98f5d860-ac54-4d63-a759-c8175f6324b0",
   "metadata": {},
   "outputs": [
    {
     "data": {
      "text/plain": [
       "<bound method DataFrame.info of        TV  radio  newspaper  sales\n",
       "1   230.1   37.8       69.2   22.1\n",
       "2    44.5   39.3       45.1   10.4\n",
       "3    17.2   45.9       69.3    9.3\n",
       "4   151.5   41.3       58.5   18.5\n",
       "5   180.8   10.8       58.4   12.9\n",
       "..    ...    ...        ...    ...\n",
       "196  38.2    3.7       13.8    7.6\n",
       "197  94.2    4.9        8.1    9.7\n",
       "198 177.0    9.3        6.4   12.8\n",
       "199 283.6   42.0       66.2   25.5\n",
       "200 232.1    8.6        8.7   13.4\n",
       "\n",
       "[200 rows x 4 columns]>"
      ]
     },
     "execution_count": 7,
     "metadata": {},
     "output_type": "execute_result"
    }
   ],
   "source": [
    "data.info"
   ]
  },
  {
   "cell_type": "code",
   "execution_count": 8,
   "id": "b45a57a9-6e27-4aed-a363-4511e94b3e07",
   "metadata": {},
   "outputs": [
    {
     "data": {
      "text/plain": [
       "<bound method NDFrame.describe of        TV  radio  newspaper  sales\n",
       "1   230.1   37.8       69.2   22.1\n",
       "2    44.5   39.3       45.1   10.4\n",
       "3    17.2   45.9       69.3    9.3\n",
       "4   151.5   41.3       58.5   18.5\n",
       "5   180.8   10.8       58.4   12.9\n",
       "..    ...    ...        ...    ...\n",
       "196  38.2    3.7       13.8    7.6\n",
       "197  94.2    4.9        8.1    9.7\n",
       "198 177.0    9.3        6.4   12.8\n",
       "199 283.6   42.0       66.2   25.5\n",
       "200 232.1    8.6        8.7   13.4\n",
       "\n",
       "[200 rows x 4 columns]>"
      ]
     },
     "execution_count": 8,
     "metadata": {},
     "output_type": "execute_result"
    }
   ],
   "source": [
    "data.describe"
   ]
  },
  {
   "cell_type": "code",
   "execution_count": 10,
   "id": "b98c429f-08c3-4585-a1ef-d8672088cec0",
   "metadata": {},
   "outputs": [
    {
     "data": {
      "image/png": "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´IjfylCBkgIqIjfylCBkgIqIjfylCBkgIqIjfylCBkgIqIjfylCBkgIqIjfylCBkgIqIjfylCBkgIqIjfylCBkgIqIjfylCBkgIqIjfylCBkgIqIjfylCBkgIqIjfylCBkgIqIjfylCBkgIqIjfylCBkgIqIjfylCBkgIqIjfylCBkgIqIjfylCBkgIqIjfylCBkgIqIjfylCBkgIqIjfylCBkgIqIjfylCBkgIqIjfylCBkgIqIjfylCBkgIqIjfylCBkgIqIjfylCBkgIqIjfylCBkgIqIjfylCBkgIqIjfylCBkgIqIjfylCBkgIqIjfylCBkgIqIjfylCBkgIqIjfylCBkgIqIjfylCBkgIqIjfylCBkgIqIjfylCBkgIqIjfylCBkgIqIjfylCBkgIqIjfylCBkgIqIjfylCBkgIqIjfylCBkgIqIjfylCBkgIqIjfylCBkgIqIjfylCBkgIqIjfylCBkgIqIjfylCBkgIqIjfylCBkgIqIjfylCBkgIqIjfylCBkgIqIjfylCBkgIqIjfylCBkgIqIjfylCBkgIqIjfylCBkgIqIjfylCBkgIqIjfylCBkgIqIjfylCBkgIqIjfylCBkgIqIjfylCBkgIqIjfylCBkgIqIjfylCBkgIqIjfylCBkgIqIjfylCBkgIqIjfylCBkgIqIjfylCBkgIqIjfylCBkgIqIjfylCBkgIqIjfylCBkgIqIjfylCBkgIqIjfylCBkgIqIjfylCBkgIqIjfylCBkgIqIjfylCBkgIqIjfylCBkgIqIjfylCBkgIqIjfylCBkgIqIjfylCBkgIqIjfylCBkgIqIjfylCBkgIqIjfylCBkgIqIjfylCBkgIqIjfylCBkgIqIjfylCBkgIqIjfylCBkgIqIjfylCBkgIqIjfylCBkgIqIjfylCBkgIqIjfylCBkgIqIjfylCBkgIqIjfylCBkgIqIjfylCBkgIqIjfylCBkgIqIjfylCBkgIqIjfylCBkgIqIjfylCBkgIqIjfylCBkgIqIjfylCBkgIqIjfylCBkgIqIjfylCBkgIqIjfylCBkgIqIjfylCBkgIqIjfylCBkgIqIjfylCBkgIqIjfylCBkgIqIjfylCBkgIqIjfylCBkgIqIjfylCBkgIqIjfylCBkgIqIjfylCBkgIqIjfylCBkgIqIjfylCBkgIqIjfylCBkgIqIjfylCBkgIqIjfylCBkgIqIjfylCBkgIqIjfylCBkgIqIjfylCBkgIqIjfylCBkgIqIjfylCBkgIqIjfylCBkgIqIjfylCBkgIqIjfylCBkgIqIjfylCBkgIqIjfylCBkgIqIjfylCBkgIqIjfylCBkgIqIjfylCBkgIqIjfylCBkgIqIjfylCBkgIqIjfylCBkgIqIjfylCBkgIqIjfylCBkgIqIjfylCBkgIqIjfylCBkgIqIjfylCBkgIqIjfylCBkgIqIjfylCBkgIqIjfylCBkgIqIjfylCBkgIqIjfylCBkgIqIjfylCBkgIqIjfylCBkgIqIjfylCBkgIqIjfylCBkgIqIjfylCBkgIqIjfylCBkgIqIjfylCBkgIqIjfylCBkgIqIjfylCBkgIqIjfylCBkgIqIjfylCBkgIqIjfylCBkgIqIjfylCBkgIqIjfylCBkgIqIjfylCBkgIqIjfylCBkgIqIjfylCBkgIqIjfylCBkgIqIjfylCBkgIqIjfylCBkgIqIjfylCBkgIqIjfylCBkgIqIjfylCBkgIqIjfylCBkgIqIjfylCBkgIqIjfylCBkgIqIjfylCBkgIqIjfylCBkgIqIjfylCBkgIqIjfylCBkgIqIjfylCBkgIqIjfylCBkgIqIjfylCBkgIqIjfylCBkgIqIjfylCBkgIqIjfylCBkgIqIjfylCBkgIqIjfylCBkgIqIjfylCBkgIqIjfylCBkgIqIjfylCBkgIqIjfylCBkgIqIjfylCBkgIqIjfylCBkgIqIjfylCBkgIqIjfylCBkgIqIjfylCBkgIqIjfylCBkgIqIjfylCBkgIqIjfylCBkgIqIjfylCBkgIqIjfylCBkgIqIjfylCBkgIqIjfylCBkgIqIjfylCBkgIqIjfylCBkgIqIjfylCBkgIqIjfylCBkgIqIjfylCBkgIqIjfylCBkgIqIjfylCBkgIqIjfylCBkgIqIjfylCBkgIqIjfylCBkgIqIjfylCBkgIqIjfylCBkgIqIjfylCBkgIqIjfylCBkgIqIjfylCBkgIqIjfylCBkgIqIjfylCBkgIqIjfylCBkgIqIjfylCBkgIqIjfylCBkgIqIjfylCBkgIqIjfylCBkgIqIjfylCBkgIqIjfylCBkgIqIjfylCBkgIqIjfylCBkgIqIjfylCBkgIqIjfylCBkgIqIjfylCBkgIqIjfylCBkgIqIjfylCBkgIqIjfylCBkgIqIjfylCBkgIqIjfylCBkgIqIjfylCBkgIqIjfylCBkgIqIjfylCBkgIqIjfylCBkgIqIjfylCBkgIqIjfylCBkgIqIjfylCBkgIqIjfylCBkgIqI-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'e5"
     },
     "metadata": {},
     "output_type": "display_data"
    }
   ],
   "source": [
    "# Creamos el gráfico\n",
    "plt.figure(figsize=(8, 6))\n",
    "sns.scatterplot(x='TV', y='sales', data=data)\n",
    "plt.title('Inversión en TV vs. Ventas')\n",
    "plt.xlabel('Inversión en Publicidad de TV ($ miles)')\n",
    "plt.ylabel('Ventas (miles de unidades)')\n",
    "plt.grid(True)\n",
    "plt.show()"
   ]
  },
  {
   "cell_type": "code",
   "execution_count": 12,
   "id": "273d85ea-b614-46c0-ac30-3d5eb3b7a20c",
   "metadata": {},
   "outputs": [
    {
     "name": "stdout",
     "output_type": "stream",
     "text": [
      "Datos de entrenamiento (train): 140 registros\n",
      "Datos de prueba (test): 60 registros\n"
     ]
    }
   ],
   "source": [
    "X_train, X_test, y_train, y_test = train_test_split(X, Y, test_size=0.3, random_state=42)\n",
    "\n",
    "print(f\"Datos de entrenamiento (train): {X_train.shape[0]} registros\")\n",
    "print(f\"Datos de prueba (test): {X_test.shape[0]} registros\")"
   ]
  },
  {
   "cell_type": "code",
   "execution_count": 14,
   "id": "1e3ddfda-2492-48a6-812d-80e10992fe5f",
   "metadata": {},
   "outputs": [
    {
     "name": "stdout",
     "output_type": "stream",
     "text": [
      "La ecuación del modelo es: Sales = 7.2395 + 0.0464 * TV\n"
     ]
    }
   ],
   "source": [
    "#con eso, creamos una instancia del modelo\n",
    "model = LinearRegression()\n",
    "\n",
    "#entrenamos el modelo:\n",
    "model.fit(X_train,y_train)\n",
    "# Obtenemos el intercepto (beta_0) y el coeficiente (beta_1)\n",
    "beta_0 = model.intercept_\n",
    "beta_1 = model.coef_[0]\n",
    "\n",
    "print(f\"La ecuación del modelo es: Sales = {beta_0:.4f} + {beta_1:.4f} * TV\")"
   ]
  },
  {
   "cell_type": "code",
   "execution_count": null,
   "id": "ab794e9b-9cd9-47f0-b42e-f8e858da4bca",
   "metadata": {},
   "outputs": [],
   "source": []
  },
  {
   "cell_type": "code",
   "execution_count": 15,
   "id": "77d9465f-f3ac-40bf-bc1c-0e4905b9d195",
   "metadata": {},
   "outputs": [
    {
     "name": "stdout",
     "output_type": "stream",
     "text": [
      "Rendimiento del modelo en el conjunto de prueba:\n",
      "---------------------------------------------\n",
      "Error Absoluto Medio (MAE): 2.2759\n",
      "Error Cuadrático Medio (MSE): 8.9710\n",
      "Raíz del Error Cuadrático Medio (RMSE): 2.9952\n",
      "Coeficiente de Determinación (R²): 0.6714\n"
     ]
    }
   ],
   "source": [
    "# Importar las funciones de métricas\n",
    "from sklearn.metrics import mean_absolute_error, mean_squared_error, r2_score\n",
    "import numpy as np\n",
    "\n",
    "# 1. Usar el modelo entrenado para hacer predicciones en el CONJUNTO DE PRUEBA\n",
    "y_pred = model.predict(X_test)\n",
    "\n",
    "# 2. Calcular las métricas\n",
    "mae = mean_absolute_error(y_test, y_pred)\n",
    "mse = mean_squared_error(y_test, y_pred)\n",
    "rmse = np.sqrt(mse)\n",
    "r2 = r2_score(y_test, y_pred)\n",
    "\n",
    "# 3. Imprimir los resultados\n",
    "print(f\"Rendimiento del modelo en el conjunto de prueba:\")\n",
    "print(f\"---------------------------------------------\")\n",
    "print(f\"Error Absoluto Medio (MAE): {mae:.4f}\")\n",
    "print(f\"Error Cuadrático Medio (MSE): {mse:.4f}\")\n",
    "print(f\"Raíz del Error Cuadrático Medio (RMSE): {rmse:.4f}\")\n",
    "print(f\"Coeficiente de Determinación (R²): {r2:.4f}\")"
   ]
  },
  {
   "cell_type": "code",
   "execution_count": null,
   "id": "f6eff7b3-43b9-4d66-95ee-0804807f21e4",
   "metadata": {},
   "outputs": [],
   "source": []
  }
 ],
 "metadata": {
  "kernelspec": {
   "display_name": "Python 3 (ipykernel)",
   "language": "python",
   "name": "python3"
  },
  "language_info": {
   "codemirror_mode": {
    "name": "ipython",
    "version": 3
   },
   "file_extension": ".py",
   "mimetype": "text/x-python",
   "name": "python",
   "nbconvert_exporter": "python",
   "pygments_lexer": "ipython3",
   "version": "3.9.23"
  }
 },
 "nbformat": 4,
 "nbformat_minor": 5
}
